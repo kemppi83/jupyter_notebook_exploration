{
 "cells": [
  {
   "cell_type": "markdown",
   "metadata": {},
   "source": [
    "I want to test jupyter notebook as a notes and presentation tool. Emphasis is on the tech team and especially solution designs."
   ]
  },
  {
   "cell_type": "code",
   "execution_count": 13,
   "metadata": {},
   "outputs": [
    {
     "data": {
      "text/html": [
       "<div><div style=\"text-align:center;font-family:Arial, sans-serif\"><h1 style=\"color:blue\">Hello, Styled React in Jupyter!</h1><p style=\"font-size:18px\">This is a paragraph styled with inline CSS.</p></div></div>"
      ]
     },
     "execution_count": 13,
     "metadata": {},
     "output_type": "execute_result"
    }
   ],
   "source": [
    "import { DOMParser } from \"https://deno.land/x/deno_dom/deno-dom-wasm.ts\";\n",
    "import React from \"https://esm.sh/react\";\n",
    "import ReactDOMServer from \"https://esm.sh/react-dom/server\";\n",
    "\n",
    "const document = new DOMParser().parseFromString(\"<!DOCTYPE html><html><body></body></html>\", \"text/html\");\n",
    "const container = document.createElement(\"div\");\n",
    "\n",
    "function App() {\n",
    "    return (\n",
    "        <div style={{ textAlign: \"center\", fontFamily: \"Arial, sans-serif\" }}>\n",
    "            <h1 style={{ color: \"blue\" }}>Hello, Styled React in Jupyter!</h1>\n",
    "            <p style={{ fontSize: \"18px\" }}>This is a paragraph styled with inline CSS.</p>\n",
    "        </div>\n",
    "    );\n",
    "}\n",
    "\n",
    "const renderedHTML = ReactDOMServer.renderToString(<App />);\n",
    "\n",
    "// Inject HTML directly into the output area using customElements\n",
    "// Simulate DOM for server-side rendering\n",
    "container.innerHTML = renderedHTML;\n",
    "document.body.appendChild(container);"
   ]
  },
  {
   "cell_type": "code",
   "execution_count": 11,
   "metadata": {},
   "outputs": [
    {
     "data": {
      "text/html": [
       "<div><div style=\"margin:20px;text-align:center;font-family:Arial, sans-serif\"><h1 style=\"color:#1976d2;font-size:2rem;margin-bottom:20px\">Contact Us</h1><form style=\"display:inline-block;text-align:left;width:300px\"><div style=\"margin-bottom:15px\"><label style=\"display:block;font-weight:bold;margin-bottom:5px\">Name</label><input type=\"text\" style=\"width:100%;padding:10px;font-size:16px;border:1px solid #ccc;border-radius:4px\"></div><div style=\"margin-bottom:15px\"><label style=\"display:block;font-weight:bold;margin-bottom:5px\">Email</label><input type=\"email\" style=\"width:100%;padding:10px;font-size:16px;border:1px solid #ccc;border-radius:4px\"></div><div style=\"margin-bottom:15px\"><label style=\"display:block;font-weight:bold;margin-bottom:5px\">Message</label><textarea rows=\"4\" style=\"width:100%;padding:10px;font-size:16px;border:1px solid #ccc;border-radius:4px\"></textarea></div><button type=\"submit\" style=\"width:100%;padding:10px;font-size:16px;background-color:#1976d2;color:white;border:none;border-radius:4px;cursor:pointer\">Submit</button></form></div></div>"
      ]
     },
     "execution_count": 11,
     "metadata": {},
     "output_type": "execute_result"
    }
   ],
   "source": [
    "import { DOMParser } from \"https://deno.land/x/deno_dom/deno-dom-wasm.ts\";\n",
    "import React from \"https://esm.sh/react\";\n",
    "import ReactDOMServer from \"https://esm.sh/react-dom/server\";\n",
    "\n",
    "// Simulate a DOM\n",
    "const document = new DOMParser().parseFromString(\"<!DOCTYPE html><html><body></body></html>\", \"text/html\");\n",
    "const container = document.createElement(\"div\");\n",
    "\n",
    "// Define React component with inline styles\n",
    "function App() {\n",
    "    return (\n",
    "        <div style={{ margin: \"20px\", textAlign: \"center\", fontFamily: \"Arial, sans-serif\" }}>\n",
    "            <h1 style={{ color: \"#1976d2\", fontSize: \"2rem\", marginBottom: \"20px\" }}>Contact Us</h1>\n",
    "            <form style={{ display: \"inline-block\", textAlign: \"left\", width: \"300px\" }}>\n",
    "                <div style={{ marginBottom: \"15px\" }}>\n",
    "                    <label style={{ display: \"block\", fontWeight: \"bold\", marginBottom: \"5px\" }}>\n",
    "                        Name\n",
    "                    </label>\n",
    "                    <input\n",
    "                        type=\"text\"\n",
    "                        style={{\n",
    "                            width: \"100%\",\n",
    "                            padding: \"10px\",\n",
    "                            fontSize: \"16px\",\n",
    "                            border: \"1px solid #ccc\",\n",
    "                            borderRadius: \"4px\",\n",
    "                        }}\n",
    "                    />\n",
    "                </div>\n",
    "                <div style={{ marginBottom: \"15px\" }}>\n",
    "                    <label style={{ display: \"block\", fontWeight: \"bold\", marginBottom: \"5px\" }}>\n",
    "                        Email\n",
    "                    </label>\n",
    "                    <input\n",
    "                        type=\"email\"\n",
    "                        style={{\n",
    "                            width: \"100%\",\n",
    "                            padding: \"10px\",\n",
    "                            fontSize: \"16px\",\n",
    "                            border: \"1px solid #ccc\",\n",
    "                            borderRadius: \"4px\",\n",
    "                        }}\n",
    "                    />\n",
    "                </div>\n",
    "                <div style={{ marginBottom: \"15px\" }}>\n",
    "                    <label style={{ display: \"block\", fontWeight: \"bold\", marginBottom: \"5px\" }}>\n",
    "                        Message\n",
    "                    </label>\n",
    "                    <textarea\n",
    "                        rows={4}\n",
    "                        style={{\n",
    "                            width: \"100%\",\n",
    "                            padding: \"10px\",\n",
    "                            fontSize: \"16px\",\n",
    "                            border: \"1px solid #ccc\",\n",
    "                            borderRadius: \"4px\",\n",
    "                        }}\n",
    "                    ></textarea>\n",
    "                </div>\n",
    "                <button\n",
    "                    type=\"submit\"\n",
    "                    style={{\n",
    "                        width: \"100%\",\n",
    "                        padding: \"10px\",\n",
    "                        fontSize: \"16px\",\n",
    "                        backgroundColor: \"#1976d2\",\n",
    "                        color: \"white\",\n",
    "                        border: \"none\",\n",
    "                        borderRadius: \"4px\",\n",
    "                        cursor: \"pointer\",\n",
    "                    }}\n",
    "                >\n",
    "                    Submit\n",
    "                </button>\n",
    "            </form>\n",
    "        </div>\n",
    "    );\n",
    "}\n",
    "\n",
    "// Render the React component\n",
    "const renderedHTML = ReactDOMServer.renderToString(<App />);\n",
    "\n",
    "// Insert the rendered React HTML into the container\n",
    "container.innerHTML = renderedHTML;\n",
    "\n",
    "document.body.appendChild(container);"
   ]
  },
  {
   "cell_type": "code",
   "execution_count": 13,
   "metadata": {},
   "outputs": [
    {
     "data": {
      "text/html": [
       "<div><div class=\"mdl-layout mdl-js-layout mdl-layout--fixed-header\"><main class=\"mdl-layout__content\"><div style=\"margin:20px;text-align:center;font-family:Arial, sans-serif\"><h1 class=\"mdl-typography--display-2\">Contact Us</h1><form style=\"display:inline-block;text-align:left;width:300px\"><div class=\"mdl-textfield mdl-js-textfield\" style=\"margin-bottom:15px\"><input class=\"mdl-textfield__input\" type=\"text\" id=\"name\"><label class=\"mdl-textfield__label\" for=\"name\">Name</label></div><div class=\"mdl-textfield mdl-js-textfield\" style=\"margin-bottom:15px\"><input class=\"mdl-textfield__input\" type=\"email\" id=\"email\"><label class=\"mdl-textfield__label\" for=\"email\">Email</label></div><button class=\"mdl-button mdl-js-button mdl-button--raised mdl-button--colored\" style=\"width:100%\">Submit</button></form></div></main></div></div>"
      ]
     },
     "execution_count": 13,
     "metadata": {},
     "output_type": "execute_result"
    }
   ],
   "source": [
    "import { DOMParser } from \"https://deno.land/x/deno_dom/deno-dom-wasm.ts\";\n",
    "import React from \"https://esm.sh/react\";\n",
    "import ReactDOMServer from \"https://esm.sh/react-dom/server\";\n",
    "\n",
    "// Simulate a DOM\n",
    "const document = new DOMParser().parseFromString(\"<!DOCTYPE html><html><body></body></html>\", \"text/html\");\n",
    "const container = document.createElement(\"div\");\n",
    "\n",
    "// Fetch Material Design Lite CSS\n",
    "async function fetchMaterialDesignCSS() {\n",
    "    const response = await fetch(\"https://cdnjs.cloudflare.com/ajax/libs/material-design-lite/1.3.0/material.indigo-pink.min.css\");\n",
    "    const css = await response.text();\n",
    "\n",
    "    // Create a <style> tag and append it to the simulated DOM\n",
    "    const styleTag = document.createElement(\"style\");\n",
    "    styleTag.textContent = css;\n",
    "    return styleTag;\n",
    "}\n",
    "\n",
    "// Define a React component\n",
    "function App() {\n",
    "    return (\n",
    "        <div className=\"mdl-layout mdl-js-layout mdl-layout--fixed-header\">\n",
    "            <main className=\"mdl-layout__content\">\n",
    "                <div style={{ margin: \"20px\", textAlign: \"center\", fontFamily: \"Arial, sans-serif\" }}>\n",
    "                    <h1 className=\"mdl-typography--display-2\">Contact Us</h1>\n",
    "                    <form style={{ display: \"inline-block\", textAlign: \"left\", width: \"300px\" }}>\n",
    "                        <div className=\"mdl-textfield mdl-js-textfield\" style={{ marginBottom: \"15px\" }}>\n",
    "                            <input className=\"mdl-textfield__input\" type=\"text\" id=\"name\" />\n",
    "                            <label className=\"mdl-textfield__label\" htmlFor=\"name\">Name</label>\n",
    "                        </div>\n",
    "                        <div className=\"mdl-textfield mdl-js-textfield\" style={{ marginBottom: \"15px\" }}>\n",
    "                            <input className=\"mdl-textfield__input\" type=\"email\" id=\"email\" />\n",
    "                            <label className=\"mdl-textfield__label\" htmlFor=\"email\">Email</label>\n",
    "                        </div>\n",
    "                        <button\n",
    "                            className=\"mdl-button mdl-js-button mdl-button--raised mdl-button--colored\"\n",
    "                            style={{ width: \"100%\" }}\n",
    "                        >\n",
    "                            Submit\n",
    "                        </button>\n",
    "                    </form>\n",
    "                </div>\n",
    "            </main>\n",
    "        </div>\n",
    "    );\n",
    "}\n",
    "\n",
    "// Render the React component\n",
    "const renderedHTML = ReactDOMServer.renderToString(<App />);\n",
    "\n",
    "// Insert the rendered React HTML into the container\n",
    "container.innerHTML = renderedHTML;\n",
    "\n",
    "// Fetch and embed the Material Design Lite CSS\n",
    "const styleTag = await fetchMaterialDesignCSS();\n",
    "document.head.appendChild(styleTag);\n",
    "\n",
    "document.body.appendChild(container);"
   ]
  }
 ],
 "metadata": {
  "kernelspec": {
   "display_name": "Deno",
   "language": "typescript",
   "name": "deno"
  },
  "language_info": {
   "codemirror_mode": "typescript",
   "file_extension": ".ts",
   "mimetype": "text/x.typescript",
   "name": "typescript",
   "nbconvert_exporter": "script",
   "pygments_lexer": "typescript",
   "version": "5.6.2"
  }
 },
 "nbformat": 4,
 "nbformat_minor": 2
}
